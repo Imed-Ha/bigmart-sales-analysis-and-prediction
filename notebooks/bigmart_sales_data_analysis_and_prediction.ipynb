{
 "cells": [
  {
   "cell_type": "code",
   "execution_count": 14,
   "metadata": {},
   "outputs": [
    {
     "name": "stdout",
     "output_type": "stream",
     "text": [
      "[-1.37254902 -0.9906015  -2.75      ]\n",
      "[9.14893617]\n"
     ]
    }
   ],
   "source": [
    "import sklearn\n",
    "import numpy as np\n",
    "from sklearn.linear_model import LinearRegression\n",
    "from sklearn.model_selection import cross_val_score\n",
    "\n",
    "X = np.array([1,2,3,4,5,8,9]).reshape(-1,1)\n",
    "X \n",
    "\n",
    "Y = np.array([4,5,7,8,9,10,12])\n",
    "\n",
    "model = LinearRegression().fit(X,Y)\n",
    "\n",
    "cv = cross_val_score(model, X, Y, cv=3, scoring='neg_mean_absolute_error')\n",
    "print(cv)\n",
    "\n",
    "prediction = model.predict(np.array([6]).reshape(-1,1))\n",
    "print(prediction)\n"
   ]
  },
  {
   "cell_type": "markdown",
   "metadata": {},
   "source": [
    "LogisticRegression"
   ]
  },
  {
   "cell_type": "code",
   "execution_count": 18,
   "metadata": {},
   "outputs": [
    {
     "name": "stdout",
     "output_type": "stream",
     "text": [
      "[3.72340426]\n",
      "[5.53191489]\n",
      "[7.34042553]\n",
      "[9.14893617]\n",
      "[10.95744681]\n",
      "[12.76595745]\n",
      "[14.57446809]\n",
      "[16.38297872]\n"
     ]
    }
   ],
   "source": [
    "# Create an array with a range of values\n",
    "range_arr = np.arange(0, 15, 2)\n",
    "range_arr\n",
    "for i in range_arr:\n",
    "    print(model.predict(np.array([i]).reshape(-1,1)))"
   ]
  },
  {
   "cell_type": "code",
   "execution_count": 23,
   "metadata": {},
   "outputs": [
    {
     "data": {
      "text/plain": [
       "array([[0.23306535, 0.75312262, 0.75273473],\n",
       "       [0.59788594, 0.01084783, 0.93963781]])"
      ]
     },
     "execution_count": 23,
     "metadata": {},
     "output_type": "execute_result"
    }
   ],
   "source": [
    "# Create an array with random values\n",
    "random_arr = np.random.random((2, 3))\n",
    "random_arr"
   ]
  },
  {
   "cell_type": "code",
   "execution_count": 24,
   "metadata": {},
   "outputs": [
    {
     "data": {
      "text/plain": [
       "0.5478823788835044"
      ]
     },
     "execution_count": 24,
     "metadata": {},
     "output_type": "execute_result"
    }
   ],
   "source": [
    "mean = np.mean(random_arr)\n",
    "mean"
   ]
  },
  {
   "cell_type": "code",
   "execution_count": 28,
   "metadata": {},
   "outputs": [
    {
     "data": {
      "text/plain": [
       "0.01084782513672522"
      ]
     },
     "execution_count": 28,
     "metadata": {},
     "output_type": "execute_result"
    }
   ],
   "source": [
    "median = np.min(random_arr)\n",
    "median"
   ]
  },
  {
   "cell_type": "code",
   "execution_count": 34,
   "metadata": {},
   "outputs": [
    {
     "data": {
      "text/plain": [
       "array([[1, 2, 3],\n",
       "       [4, 5, 6]])"
      ]
     },
     "execution_count": 34,
     "metadata": {},
     "output_type": "execute_result"
    }
   ],
   "source": [
    "# Create a 1D array\n",
    "arr1 = np.array([1, 2, 3, 4, 5,6])\n",
    "arr = np.reshape(arr1, (2,3))\n",
    "arr"
   ]
  },
  {
   "cell_type": "code",
   "execution_count": 35,
   "metadata": {},
   "outputs": [
    {
     "data": {
      "text/plain": [
       "array([1, 2, 3, 4, 5, 6])"
      ]
     },
     "execution_count": 35,
     "metadata": {},
     "output_type": "execute_result"
    }
   ],
   "source": [
    "arrr = arr.flatten()\n",
    "arrr"
   ]
  },
  {
   "cell_type": "markdown",
   "metadata": {},
   "source": [
    "Pandas"
   ]
  },
  {
   "cell_type": "code",
   "execution_count": 37,
   "metadata": {},
   "outputs": [
    {
     "data": {
      "text/html": [
       "<div>\n",
       "<style scoped>\n",
       "    .dataframe tbody tr th:only-of-type {\n",
       "        vertical-align: middle;\n",
       "    }\n",
       "\n",
       "    .dataframe tbody tr th {\n",
       "        vertical-align: top;\n",
       "    }\n",
       "\n",
       "    .dataframe thead th {\n",
       "        text-align: right;\n",
       "    }\n",
       "</style>\n",
       "<table border=\"1\" class=\"dataframe\">\n",
       "  <thead>\n",
       "    <tr style=\"text-align: right;\">\n",
       "      <th></th>\n",
       "      <th>name</th>\n",
       "      <th>age</th>\n",
       "    </tr>\n",
       "  </thead>\n",
       "  <tbody>\n",
       "    <tr>\n",
       "      <th>0</th>\n",
       "      <td>John</td>\n",
       "      <td>22</td>\n",
       "    </tr>\n",
       "    <tr>\n",
       "      <th>1</th>\n",
       "      <td>Paul</td>\n",
       "      <td>23</td>\n",
       "    </tr>\n",
       "    <tr>\n",
       "      <th>2</th>\n",
       "      <td>George</td>\n",
       "      <td>24</td>\n",
       "    </tr>\n",
       "    <tr>\n",
       "      <th>3</th>\n",
       "      <td>Ringo</td>\n",
       "      <td>25</td>\n",
       "    </tr>\n",
       "  </tbody>\n",
       "</table>\n",
       "</div>"
      ],
      "text/plain": [
       "     name  age\n",
       "0    John   22\n",
       "1    Paul   23\n",
       "2  George   24\n",
       "3   Ringo   25"
      ]
     },
     "execution_count": 37,
     "metadata": {},
     "output_type": "execute_result"
    }
   ],
   "source": [
    "import pandas as pd\n",
    "data = {'name': ['John', 'Paul', 'George', 'Ringo'],\n",
    "        'age': [22, 23, 24, 25]}\n",
    "\n",
    "df = pd.DataFrame(data)\n",
    "df"
   ]
  },
  {
   "cell_type": "code",
   "execution_count": 44,
   "metadata": {},
   "outputs": [
    {
     "data": {
      "text/html": [
       "<div>\n",
       "<style scoped>\n",
       "    .dataframe tbody tr th:only-of-type {\n",
       "        vertical-align: middle;\n",
       "    }\n",
       "\n",
       "    .dataframe tbody tr th {\n",
       "        vertical-align: top;\n",
       "    }\n",
       "\n",
       "    .dataframe thead th {\n",
       "        text-align: right;\n",
       "    }\n",
       "</style>\n",
       "<table border=\"1\" class=\"dataframe\">\n",
       "  <thead>\n",
       "    <tr style=\"text-align: right;\">\n",
       "      <th></th>\n",
       "      <th>name</th>\n",
       "      <th>age</th>\n",
       "    </tr>\n",
       "  </thead>\n",
       "  <tbody>\n",
       "    <tr>\n",
       "      <th>0</th>\n",
       "      <td>John</td>\n",
       "      <td>22</td>\n",
       "    </tr>\n",
       "    <tr>\n",
       "      <th>1</th>\n",
       "      <td>Paul</td>\n",
       "      <td>23</td>\n",
       "    </tr>\n",
       "    <tr>\n",
       "      <th>2</th>\n",
       "      <td>George</td>\n",
       "      <td>24</td>\n",
       "    </tr>\n",
       "    <tr>\n",
       "      <th>3</th>\n",
       "      <td>Ringo</td>\n",
       "      <td>25</td>\n",
       "    </tr>\n",
       "  </tbody>\n",
       "</table>\n",
       "</div>"
      ],
      "text/plain": [
       "     name  age\n",
       "0    John   22\n",
       "1    Paul   23\n",
       "2  George   24\n",
       "3   Ringo   25"
      ]
     },
     "execution_count": 44,
     "metadata": {},
     "output_type": "execute_result"
    }
   ],
   "source": [
    "df"
   ]
  },
  {
   "cell_type": "code",
   "execution_count": 50,
   "metadata": {},
   "outputs": [
    {
     "data": {
      "text/plain": [
       "name    Paul\n",
       "age       23\n",
       "Name: 1, dtype: object"
      ]
     },
     "execution_count": 50,
     "metadata": {},
     "output_type": "execute_result"
    }
   ],
   "source": [
    "row = df.loc[1]\n",
    "\n",
    "row"
   ]
  },
  {
   "cell_type": "markdown",
   "metadata": {},
   "source": [
    "LOOPS, Data Structure"
   ]
  },
  {
   "cell_type": "code",
   "execution_count": 78,
   "metadata": {},
   "outputs": [
    {
     "name": "stdout",
     "output_type": "stream",
     "text": [
      "apple\n",
      "banana\n",
      "cherry\n"
     ]
    },
    {
     "data": {
      "text/plain": [
       "['apple', 'cherry', 'orange']"
      ]
     },
     "execution_count": 78,
     "metadata": {},
     "output_type": "execute_result"
    }
   ],
   "source": [
    "fruits = ['apple', 'banana', 'cherry']\n",
    "for fruit in fruits:\n",
    "    print(fruit)\n",
    "\n",
    "fruits.append('orange')\n",
    "fruits\n",
    "fruits.remove('banana')\n",
    "fruits"
   ]
  },
  {
   "cell_type": "code",
   "execution_count": 68,
   "metadata": {},
   "outputs": [
    {
     "data": {
      "text/plain": [
       "4"
      ]
     },
     "execution_count": 68,
     "metadata": {},
     "output_type": "execute_result"
    }
   ],
   "source": [
    "# Create a tuple / is immutable\n",
    "my_tuple = (1, 2, 3,6)\n",
    "len(my_tuple)"
   ]
  },
  {
   "cell_type": "code",
   "execution_count": 69,
   "metadata": {},
   "outputs": [
    {
     "data": {
      "text/plain": [
       "{1, 2, 3, 4, 6, 7}"
      ]
     },
     "execution_count": 69,
     "metadata": {},
     "output_type": "execute_result"
    }
   ],
   "source": [
    "# Create a set / is unordered and unindexed\n",
    "my_set = {1, 2, 3, 4, 5, 6}\n",
    "my_set.add(7)\n",
    "my_set.remove(5)\n",
    "my_set"
   ]
  },
  {
   "cell_type": "code",
   "execution_count": 81,
   "metadata": {},
   "outputs": [
    {
     "name": "stdout",
     "output_type": "stream",
     "text": [
      "name John\n",
      "city chicago\n",
      "['name', 'city']\n",
      "['John', 'chicago']\n"
     ]
    }
   ],
   "source": [
    "# Create a dictionary / is a collection of key-value pairs\n",
    "my_dic = {'name': 'John', 'age': 22}\n",
    "my_dic['city'] = 'chicago'\n",
    "del my_dic['age']\n",
    "my_dic\n",
    "\n",
    "list_key = []\n",
    "list_values = []\n",
    "\n",
    "for key, values in my_dic.items():\n",
    "    print(key, values)\n",
    "    list_key.append(key)\n",
    "    list_values.append(values)\n",
    "print(list_key)\n",
    "print(list_values)"
   ]
  },
  {
   "cell_type": "code",
   "execution_count": 86,
   "metadata": {},
   "outputs": [
    {
     "name": "stdout",
     "output_type": "stream",
     "text": [
      "10\n",
      "10\n"
     ]
    }
   ],
   "source": [
    "# Create a function that find the maximum value in a list\n",
    "def find_max_value(list):\n",
    "    max_value =  max(list)\n",
    "    return max_value\n",
    "print(find_max_value([1, 2, 3, 4, 5, 6, 7, 8, 9, 10]))\n",
    "print(max([1, 2, 3, 4, 5, 6, 7, 8, 9, 10]))"
   ]
  },
  {
   "cell_type": "code",
   "execution_count": 104,
   "metadata": {},
   "outputs": [
    {
     "name": "stdout",
     "output_type": "stream",
     "text": [
      "3\n"
     ]
    }
   ],
   "source": [
    "def count_vowels(s):\n",
    "    vowels = 'aeiou'\n",
    "    count = 0\n",
    "    for char in s:\n",
    "        if char.lower() in vowels:\n",
    "            count += 1\n",
    "    return count\n",
    "\n",
    "# Test\n",
    "print(count_vowels(\"Hello World\"))  # Output: 3\n"
   ]
  },
  {
   "cell_type": "code",
   "execution_count": 4,
   "metadata": {},
   "outputs": [
    {
     "name": "stdout",
     "output_type": "stream",
     "text": [
      "Collecting docx\n",
      "  Downloading docx-0.2.4.tar.gz (54 kB)\n",
      "     ---------------------------------------- 0.0/54.9 kB ? eta -:--:--\n",
      "     -------------- ----------------------- 20.5/54.9 kB 320.0 kB/s eta 0:00:01\n",
      "     --------------------- ---------------- 30.7/54.9 kB 325.1 kB/s eta 0:00:01\n",
      "     -------------------------------------- 54.9/54.9 kB 406.2 kB/s eta 0:00:00\n",
      "  Preparing metadata (setup.py): started\n",
      "  Preparing metadata (setup.py): finished with status 'done'\n",
      "Collecting lxml (from docx)\n",
      "  Downloading lxml-5.2.2-cp312-cp312-win_amd64.whl.metadata (3.5 kB)\n",
      "Requirement already satisfied: Pillow>=2.0 in c:\\users\\cristalinfo\\appdata\\local\\programs\\python\\python312\\lib\\site-packages (from docx) (10.2.0)\n",
      "Downloading lxml-5.2.2-cp312-cp312-win_amd64.whl (3.8 MB)\n",
      "   ---------------------------------------- 0.0/3.8 MB ? eta -:--:--\n",
      "   ---------------------------------------- 0.0/3.8 MB 660.6 kB/s eta 0:00:06\n",
      "    --------------------------------------- 0.1/3.8 MB 825.8 kB/s eta 0:00:05\n",
      "    --------------------------------------- 0.1/3.8 MB 751.6 kB/s eta 0:00:05\n",
      "   - -------------------------------------- 0.1/3.8 MB 774.0 kB/s eta 0:00:05\n",
      "   -- ------------------------------------- 0.2/3.8 MB 841.6 kB/s eta 0:00:05\n",
      "   -- ------------------------------------- 0.2/3.8 MB 811.5 kB/s eta 0:00:05\n",
      "   -- ------------------------------------- 0.3/3.8 MB 811.7 kB/s eta 0:00:05\n",
      "   --- ------------------------------------ 0.3/3.8 MB 827.2 kB/s eta 0:00:05\n",
      "   --- ------------------------------------ 0.3/3.8 MB 807.1 kB/s eta 0:00:05\n",
      "   --- ------------------------------------ 0.4/3.8 MB 820.1 kB/s eta 0:00:05\n",
      "   ---- ----------------------------------- 0.4/3.8 MB 829.7 kB/s eta 0:00:05\n",
      "   ---- ----------------------------------- 0.4/3.8 MB 835.1 kB/s eta 0:00:05\n",
      "   ---- ----------------------------------- 0.5/3.8 MB 819.9 kB/s eta 0:00:05\n",
      "   ----- ---------------------------------- 0.5/3.8 MB 840.7 kB/s eta 0:00:04\n",
      "   ----- ---------------------------------- 0.6/3.8 MB 827.3 kB/s eta 0:00:04\n",
      "   ------ --------------------------------- 0.6/3.8 MB 826.0 kB/s eta 0:00:04\n",
      "   ------ --------------------------------- 0.6/3.8 MB 832.9 kB/s eta 0:00:04\n",
      "   ------- -------------------------------- 0.7/3.8 MB 832.3 kB/s eta 0:00:04\n",
      "   ------- -------------------------------- 0.7/3.8 MB 834.5 kB/s eta 0:00:04\n",
      "   -------- ------------------------------- 0.8/3.8 MB 836.4 kB/s eta 0:00:04\n",
      "   -------- ------------------------------- 0.8/3.8 MB 841.5 kB/s eta 0:00:04\n",
      "   -------- ------------------------------- 0.8/3.8 MB 845.4 kB/s eta 0:00:04\n",
      "   --------- ------------------------------ 0.9/3.8 MB 837.4 kB/s eta 0:00:04\n",
      "   --------- ------------------------------ 0.9/3.8 MB 829.2 kB/s eta 0:00:04\n",
      "   --------- ------------------------------ 0.9/3.8 MB 842.4 kB/s eta 0:00:04\n",
      "   ---------- ----------------------------- 1.0/3.8 MB 832.7 kB/s eta 0:00:04\n",
      "   ---------- ----------------------------- 1.0/3.8 MB 845.4 kB/s eta 0:00:04\n",
      "   ---------- ----------------------------- 1.0/3.8 MB 838.1 kB/s eta 0:00:04\n",
      "   ----------- ---------------------------- 1.1/3.8 MB 847.3 kB/s eta 0:00:04\n",
      "   ----------- ---------------------------- 1.1/3.8 MB 838.1 kB/s eta 0:00:04\n",
      "   ------------ --------------------------- 1.2/3.8 MB 839.8 kB/s eta 0:00:04\n",
      "   ------------ --------------------------- 1.2/3.8 MB 842.5 kB/s eta 0:00:04\n",
      "   ------------ --------------------------- 1.2/3.8 MB 836.5 kB/s eta 0:00:04\n",
      "   ------------- -------------------------- 1.3/3.8 MB 839.7 kB/s eta 0:00:04\n",
      "   ------------- -------------------------- 1.3/3.8 MB 839.1 kB/s eta 0:00:03\n",
      "   -------------- ------------------------- 1.4/3.8 MB 841.6 kB/s eta 0:00:03\n",
      "   -------------- ------------------------- 1.4/3.8 MB 841.0 kB/s eta 0:00:03\n",
      "   --------------- ------------------------ 1.4/3.8 MB 843.7 kB/s eta 0:00:03\n",
      "   --------------- ------------------------ 1.5/3.8 MB 838.6 kB/s eta 0:00:03\n",
      "   --------------- ------------------------ 1.5/3.8 MB 839.4 kB/s eta 0:00:03\n",
      "   ---------------- ----------------------- 1.5/3.8 MB 842.0 kB/s eta 0:00:03\n",
      "   ---------------- ----------------------- 1.6/3.8 MB 841.0 kB/s eta 0:00:03\n",
      "   ---------------- ----------------------- 1.6/3.8 MB 843.5 kB/s eta 0:00:03\n",
      "   ----------------- ---------------------- 1.6/3.8 MB 845.8 kB/s eta 0:00:03\n",
      "   ----------------- ---------------------- 1.7/3.8 MB 841.3 kB/s eta 0:00:03\n",
      "   ------------------ --------------------- 1.7/3.8 MB 840.4 kB/s eta 0:00:03\n",
      "   ------------------ --------------------- 1.8/3.8 MB 842.7 kB/s eta 0:00:03\n",
      "   ------------------ --------------------- 1.8/3.8 MB 838.5 kB/s eta 0:00:03\n",
      "   ------------------- -------------------- 1.8/3.8 MB 843.9 kB/s eta 0:00:03\n",
      "   ------------------- -------------------- 1.9/3.8 MB 839.9 kB/s eta 0:00:03\n",
      "   -------------------- ------------------- 1.9/3.8 MB 846.5 kB/s eta 0:00:03\n",
      "   -------------------- ------------------- 2.0/3.8 MB 841.5 kB/s eta 0:00:03\n",
      "   -------------------- ------------------- 2.0/3.8 MB 842.1 kB/s eta 0:00:03\n",
      "   --------------------- ------------------ 2.0/3.8 MB 844.0 kB/s eta 0:00:03\n",
      "   --------------------- ------------------ 2.1/3.8 MB 845.6 kB/s eta 0:00:03\n",
      "   --------------------- ------------------ 2.1/3.8 MB 841.9 kB/s eta 0:00:03\n",
      "   ---------------------- ----------------- 2.1/3.8 MB 843.8 kB/s eta 0:00:03\n",
      "   ---------------------- ----------------- 2.2/3.8 MB 843.3 kB/s eta 0:00:02\n",
      "   ----------------------- ---------------- 2.2/3.8 MB 839.9 kB/s eta 0:00:02\n",
      "   ----------------------- ---------------- 2.2/3.8 MB 840.5 kB/s eta 0:00:02\n",
      "   ----------------------- ---------------- 2.3/3.8 MB 846.0 kB/s eta 0:00:02\n",
      "   ------------------------ --------------- 2.3/3.8 MB 847.4 kB/s eta 0:00:02\n",
      "   ------------------------ --------------- 2.3/3.8 MB 844.4 kB/s eta 0:00:02\n",
      "   ------------------------- -------------- 2.4/3.8 MB 848.5 kB/s eta 0:00:02\n",
      "   ------------------------- -------------- 2.4/3.8 MB 845.3 kB/s eta 0:00:02\n",
      "   ------------------------- -------------- 2.5/3.8 MB 844.6 kB/s eta 0:00:02\n",
      "   -------------------------- ------------- 2.5/3.8 MB 848.4 kB/s eta 0:00:02\n",
      "   -------------------------- ------------- 2.6/3.8 MB 845.7 kB/s eta 0:00:02\n",
      "   --------------------------- ------------ 2.6/3.8 MB 849.4 kB/s eta 0:00:02\n",
      "   --------------------------- ------------ 2.6/3.8 MB 846.5 kB/s eta 0:00:02\n",
      "   ---------------------------- ----------- 2.7/3.8 MB 845.8 kB/s eta 0:00:02\n",
      "   ---------------------------- ----------- 2.7/3.8 MB 847.2 kB/s eta 0:00:02\n",
      "   ---------------------------- ----------- 2.8/3.8 MB 844.4 kB/s eta 0:00:02\n",
      "   ----------------------------- ---------- 2.8/3.8 MB 847.9 kB/s eta 0:00:02\n",
      "   ----------------------------- ---------- 2.8/3.8 MB 845.2 kB/s eta 0:00:02\n",
      "   ------------------------------ --------- 2.9/3.8 MB 844.8 kB/s eta 0:00:02\n",
      "   ------------------------------ --------- 2.9/3.8 MB 846.1 kB/s eta 0:00:02\n",
      "   ------------------------------ --------- 2.9/3.8 MB 843.5 kB/s eta 0:00:02\n",
      "   ------------------------------- -------- 3.0/3.8 MB 844.8 kB/s eta 0:00:01\n",
      "   ------------------------------- -------- 3.0/3.8 MB 844.3 kB/s eta 0:00:01\n",
      "   -------------------------------- ------- 3.1/3.8 MB 845.5 kB/s eta 0:00:01\n",
      "   -------------------------------- ------- 3.1/3.8 MB 845.0 kB/s eta 0:00:01\n",
      "   --------------------------------- ------ 3.2/3.8 MB 844.6 kB/s eta 0:00:01\n",
      "   --------------------------------- ------ 3.2/3.8 MB 845.9 kB/s eta 0:00:01\n",
      "   --------------------------------- ------ 3.2/3.8 MB 843.5 kB/s eta 0:00:01\n",
      "   ---------------------------------- ----- 3.3/3.8 MB 847.1 kB/s eta 0:00:01\n",
      "   ---------------------------------- ----- 3.3/3.8 MB 845.0 kB/s eta 0:00:01\n",
      "   ----------------------------------- ---- 3.3/3.8 MB 847.9 kB/s eta 0:00:01\n",
      "   ----------------------------------- ---- 3.4/3.8 MB 845.6 kB/s eta 0:00:01\n",
      "   ----------------------------------- ---- 3.4/3.8 MB 848.5 kB/s eta 0:00:01\n",
      "   ------------------------------------ --- 3.5/3.8 MB 846.2 kB/s eta 0:00:01\n",
      "   ------------------------------------ --- 3.5/3.8 MB 845.9 kB/s eta 0:00:01\n",
      "   ------------------------------------- -- 3.5/3.8 MB 843.8 kB/s eta 0:00:01\n",
      "   ------------------------------------- -- 3.6/3.8 MB 846.5 kB/s eta 0:00:01\n",
      "   -------------------------------------- - 3.6/3.8 MB 843.6 kB/s eta 0:00:01\n",
      "   -------------------------------------- - 3.7/3.8 MB 847.0 kB/s eta 0:00:01\n",
      "   -------------------------------------- - 3.7/3.8 MB 844.4 kB/s eta 0:00:01\n",
      "   ---------------------------------------  3.8/3.8 MB 847.5 kB/s eta 0:00:01\n",
      "   ---------------------------------------  3.8/3.8 MB 844.2 kB/s eta 0:00:01\n",
      "   ---------------------------------------- 3.8/3.8 MB 843.3 kB/s eta 0:00:00\n",
      "Building wheels for collected packages: docx\n",
      "  Building wheel for docx (setup.py): started\n",
      "  Building wheel for docx (setup.py): finished with status 'done'\n",
      "  Created wheel for docx: filename=docx-0.2.4-py3-none-any.whl size=53903 sha256=4150e85d6fbddf5495afad521269d3d30b967f87fee8c326c857074262aec3cb\n",
      "  Stored in directory: c:\\users\\cristalinfo\\appdata\\local\\pip\\cache\\wheels\\f3\\ba\\dd\\43ed5f165600f41deddeb1e382c56ffc1067c09ec5bd705f39\n",
      "Successfully built docx\n",
      "Installing collected packages: lxml, docx\n",
      "Successfully installed docx-0.2.4 lxml-5.2.2\n",
      "Note: you may need to restart the kernel to use updated packages.\n"
     ]
    },
    {
     "name": "stderr",
     "output_type": "stream",
     "text": [
      "\n",
      "[notice] A new release of pip is available: 24.0 -> 24.1\n",
      "[notice] To update, run: python.exe -m pip install --upgrade pip\n"
     ]
    }
   ],
   "source": [
    "pip install docx"
   ]
  },
  {
   "cell_type": "code",
   "execution_count": 2,
   "metadata": {},
   "outputs": [
    {
     "name": "stdout",
     "output_type": "stream",
     "text": [
      "Note: you may need to restart the kernel to use updated packages.\n"
     ]
    },
    {
     "name": "stderr",
     "output_type": "stream",
     "text": [
      "ERROR: Could not find a version that satisfies the requirement exceptions (from versions: none)\n",
      "ERROR: No matching distribution found for exceptions\n",
      "\n",
      "[notice] A new release of pip is available: 24.0 -> 24.1\n",
      "[notice] To update, run: python.exe -m pip install --upgrade pip\n"
     ]
    }
   ],
   "source": [
    "pip install exceptions"
   ]
  },
  {
   "cell_type": "code",
   "execution_count": 1,
   "metadata": {},
   "outputs": [
    {
     "ename": "ModuleNotFoundError",
     "evalue": "No module named 'exceptions'",
     "output_type": "error",
     "traceback": [
      "\u001b[1;31m---------------------------------------------------------------------------\u001b[0m",
      "\u001b[1;31mModuleNotFoundError\u001b[0m                       Traceback (most recent call last)",
      "\u001b[1;32md:\\Github_projects\\bigmart-sales-analysis-prediction\\BigMart-Sales-Prediction\\notebooks\\bigmart_sales_data_analysis_and_prediction.ipynb Cell 22\u001b[0m line \u001b[0;36m1\n\u001b[1;32m----> <a href='vscode-notebook-cell:/d%3A/Github_projects/bigmart-sales-analysis-prediction/BigMart-Sales-Prediction/notebooks/bigmart_sales_data_analysis_and_prediction.ipynb#X25sZmlsZQ%3D%3D?line=0'>1</a>\u001b[0m \u001b[39mimport\u001b[39;00m \u001b[39mdocx\u001b[39;00m\n\u001b[0;32m      <a href='vscode-notebook-cell:/d%3A/Github_projects/bigmart-sales-analysis-prediction/BigMart-Sales-Prediction/notebooks/bigmart_sales_data_analysis_and_prediction.ipynb#X25sZmlsZQ%3D%3D?line=1'>2</a>\u001b[0m \u001b[39mfrom\u001b[39;00m \u001b[39mdocx\u001b[39;00m \u001b[39mimport\u001b[39;00m Document\n\u001b[0;32m      <a href='vscode-notebook-cell:/d%3A/Github_projects/bigmart-sales-analysis-prediction/BigMart-Sales-Prediction/notebooks/bigmart_sales_data_analysis_and_prediction.ipynb#X25sZmlsZQ%3D%3D?line=3'>4</a>\u001b[0m \u001b[39m# Load the document\u001b[39;00m\n",
      "File \u001b[1;32mc:\\Users\\Cristalinfo\\AppData\\Local\\Programs\\Python\\Python312\\Lib\\site-packages\\docx.py:30\u001b[0m\n\u001b[0;32m     27\u001b[0m \u001b[39mexcept\u001b[39;00m \u001b[39mImportError\u001b[39;00m:\n\u001b[0;32m     28\u001b[0m     TAGS \u001b[39m=\u001b[39m {}\n\u001b[1;32m---> 30\u001b[0m \u001b[39mfrom\u001b[39;00m \u001b[39mexceptions\u001b[39;00m \u001b[39mimport\u001b[39;00m \u001b[39mPendingDeprecationWarning\u001b[39;00m\n\u001b[0;32m     31\u001b[0m \u001b[39mfrom\u001b[39;00m \u001b[39mwarnings\u001b[39;00m \u001b[39mimport\u001b[39;00m warn\n\u001b[0;32m     33\u001b[0m \u001b[39mimport\u001b[39;00m \u001b[39mlogging\u001b[39;00m\n",
      "\u001b[1;31mModuleNotFoundError\u001b[0m: No module named 'exceptions'"
     ]
    }
   ],
   "source": [
    "import docx\n",
    "from docx import Document\n",
    "\n",
    "# Load the document\n",
    "doc_path = \"grillevide.docx\"\n",
    "doc = Document(doc_path)\n",
    "\n",
    "# Define the details to fill\n",
    "research_question = \"Dans quelle mesure l'utilisation de modèles de langage massifs comme ChatGPT influence-t-elle positivement ou négativement l'éducation et l'enseignement ?\"\n",
    "bibliography = \"\"\"Cadre théorique mobilisé :\n",
    "- Vygotsky, L. (1978). Mind in Society: The Development of Higher Psychological Processes.\n",
    "- Bandura, A. (2007). Auto-efficacité : le sentiment d’efficacité personnelle.\n",
    "- Venkatesh, V., & Bala, H. (2008). Technology acceptance model 3 and a research agenda on interventions. Decision Sciences, 39(2), 273–315.\n",
    "\n",
    "Lien avec l'outil de recueil :\n",
    "Utiliser la théorie socio-constructiviste de Vygotsky pour comprendre comment les outils d'IA comme ChatGPT facilitent l'apprentissage collaboratif.\n",
    "Appliquer le modèle de l'auto-efficacité de Bandura pour analyser la motivation des élèves.\n",
    "Mobiliser le modèle d'acceptation de la technologie (TAM) de Venkatesh et Bala pour évaluer l'acceptation de ChatGPT par les enseignants.\"\"\"\n",
    "\n",
    "questions = \"\"\"Questions :\n",
    "1. Comment les enseignants perçoivent-ils l'intégration de ChatGPT dans leurs pratiques pédagogiques ?\n",
    "    - Hypothèse : La perception positive des enseignants envers ChatGPT facilite son adoption et son utilisation efficace en classe.\n",
    "2. Quels sont les impacts de l'utilisation de ChatGPT sur la motivation des élèves ?\n",
    "    - Hypothèse : L'utilisation de ChatGPT augmente la motivation des élèves en rendant l'apprentissage plus interactif et personnalisé.\n",
    "3. Dans quelle mesure ChatGPT facilite-t-il ou entrave-t-il la collaboration entre les élèves ?\n",
    "    - Hypothèse : ChatGPT facilite la collaboration entre les élèves en fournissant des outils de communication et de partage de connaissances en temps réel.\n",
    "4. Quels sont les avantages et les inconvénients de l'utilisation de ChatGPT dans l'éducation selon les différents acteurs (enseignants, élèves, administrateurs) ?\n",
    "    - Hypothèse : Les avantages perçus incluent une meilleure personnalisation de l'enseignement et une augmentation de l'engagement des élèves, tandis que les inconvénients peuvent inclure des préoccupations liées à la dépendance à la technologie et à la confidentialité des données.\"\"\"\n",
    "discussion_themes = \"\"\"Thèmes de discussion :\n",
    "1. Les expériences des enseignants avec ChatGPT dans leur enseignement.\n",
    "2. Les changements observés dans la motivation et l'engagement des élèves.\n",
    "3. Les exemples spécifiques de collaboration entre élèves facilitée ou entravée par ChatGPT.\n",
    "4. Les avantages et les défis rencontrés dans l'intégration de ChatGPT.\"\"\"\n",
    "question_sequence = \"\"\"Enchaînement des questions :\n",
    "1. Pouvez-vous décrire vos premières impressions lorsque vous avez commencé à utiliser ChatGPT dans votre classe ?\n",
    "2. Comment ChatGPT a-t-il influencé la motivation et l'engagement de vos élèves ?\n",
    "3. Pouvez-vous donner des exemples de situations où ChatGPT a facilité la collaboration entre vos élèves ?\n",
    "4. Quels sont, selon vous, les principaux avantages et inconvénients de l'utilisation de ChatGPT dans votre enseignement ?\n",
    "5. Comment évaluez-vous la formation et le soutien que vous avez reçus pour utiliser ChatGPT ?\"\"\"\n",
    "\n",
    "# Fill in the sections of the document based on the identified table structure\n",
    "def fill_table(table, row, column, text):\n",
    "    table.cell(row, column).text = text\n",
    "\n",
    "# Identify the table and fill in the sections\n",
    "table = doc.tables[0]\n",
    "fill_table(table, 0, 1, research_question)\n",
    "fill_table(table, 1, 1, bibliography)\n",
    "fill_table(table, 2, 1, questions)\n",
    "fill_table(table, 3, 1, discussion_themes)\n",
    "fill_table(table, 4, 1, question_sequence)\n",
    "\n",
    "# Save the filled document\n",
    "filled_doc_path = \"filled_grille_v3.docx\"\n",
    "doc.save(filled_doc_path)\n",
    "\n",
    "filled_doc_path\n"
   ]
  },
  {
   "cell_type": "code",
   "execution_count": 1,
   "metadata": {},
   "outputs": [
    {
     "name": "stdout",
     "output_type": "stream",
     "text": [
      "...\n",
      "Exception: HTTPSConnectionPool(host='aadl3inscription2024.dz', port=443): Max retries exceeded with url: / (Caused by ConnectTimeoutError(<urllib3.connection.HTTPSConnection object at 0x0000023DAFECEB40>, 'Connection to aadl3inscription2024.dz timed out. (connect timeout=30)')). Nouvelle tentative dans 5 secondes...||\n",
      "Exception: HTTPSConnectionPool(host='aadl3inscription2024.dz', port=443): Max retries exceeded with url: / (Caused by ConnectTimeoutError(<urllib3.connection.HTTPSConnection object at 0x0000023DB028A510>, 'Connection to aadl3inscription2024.dz timed out. (connect timeout=30)')). Nouvelle tentative dans 5 secondes...||\n",
      "Exception: HTTPSConnectionPool(host='aadl3inscription2024.dz', port=443): Max retries exceeded with url: / (Caused by ConnectTimeoutError(<urllib3.connection.HTTPSConnection object at 0x0000023DB0289F40>, 'Connection to aadl3inscription2024.dz timed out. (connect timeout=30)')). Nouvelle tentative dans 5 secondes...||\n",
      "Exception: HTTPSConnectionPool(host='aadl3inscription2024.dz', port=443): Max retries exceeded with url: / (Caused by ConnectTimeoutError(<urllib3.connection.HTTPSConnection object at 0x0000023DB0289DF0>, 'Connection to aadl3inscription2024.dz timed out. (connect timeout=30)')). Nouvelle tentative dans 5 secondes...||\n",
      "Exception: HTTPSConnectionPool(host='aadl3inscription2024.dz', port=443): Max retries exceeded with url: / (Caused by ConnectTimeoutError(<urllib3.connection.HTTPSConnection object at 0x0000023DB028ADE0>, 'Connection to aadl3inscription2024.dz timed out. (connect timeout=30)')). Nouvelle tentative dans 5 secondes...||\n",
      "Exception: HTTPSConnectionPool(host='aadl3inscription2024.dz', port=443): Max retries exceeded with url: / (Caused by ConnectTimeoutError(<urllib3.connection.HTTPSConnection object at 0x0000023DB028B5C0>, 'Connection to aadl3inscription2024.dz timed out. (connect timeout=30)')). Nouvelle tentative dans 5 secondes...||\n",
      "Exception: HTTPSConnectionPool(host='aadl3inscription2024.dz', port=443): Max retries exceeded with url: / (Caused by ConnectTimeoutError(<urllib3.connection.HTTPSConnection object at 0x0000023DB028BE30>, 'Connection to aadl3inscription2024.dz timed out. (connect timeout=30)')). Nouvelle tentative dans 5 secondes...||\n",
      "Exception: HTTPSConnectionPool(host='aadl3inscription2024.dz', port=443): Max retries exceeded with url: / (Caused by ConnectTimeoutError(<urllib3.connection.HTTPSConnection object at 0x0000023DB02C86E0>, 'Connection to aadl3inscription2024.dz timed out. (connect timeout=30)')). Nouvelle tentative dans 5 secondes...||\n",
      "Exception: HTTPSConnectionPool(host='aadl3inscription2024.dz', port=443): Max retries exceeded with url: / (Caused by ConnectTimeoutError(<urllib3.connection.HTTPSConnection object at 0x0000023DB0147DD0>, 'Connection to aadl3inscription2024.dz timed out. (connect timeout=30)')). Nouvelle tentative dans 5 secondes...||\n",
      "Exception: HTTPSConnectionPool(host='aadl3inscription2024.dz', port=443): Max retries exceeded with url: / (Caused by ConnectTimeoutError(<urllib3.connection.HTTPSConnection object at 0x0000023DB028B6E0>, 'Connection to aadl3inscription2024.dz timed out. (connect timeout=30)')). Nouvelle tentative dans 5 secondes...||\n",
      "Exception: HTTPSConnectionPool(host='aadl3inscription2024.dz', port=443): Max retries exceeded with url: / (Caused by ConnectTimeoutError(<urllib3.connection.HTTPSConnection object at 0x0000023DB028AA80>, 'Connection to aadl3inscription2024.dz timed out. (connect timeout=30)')). Nouvelle tentative dans 5 secondes...||\n",
      "Exception: HTTPSConnectionPool(host='aadl3inscription2024.dz', port=443): Max retries exceeded with url: / (Caused by ConnectTimeoutError(<urllib3.connection.HTTPSConnection object at 0x0000023DB0289EE0>, 'Connection to aadl3inscription2024.dz timed out. (connect timeout=30)')). Nouvelle tentative dans 5 secondes...||\n",
      "Exception: HTTPSConnectionPool(host='aadl3inscription2024.dz', port=443): Max retries exceeded with url: / (Caused by ConnectTimeoutError(<urllib3.connection.HTTPSConnection object at 0x0000023DB020D970>, 'Connection to aadl3inscription2024.dz timed out. (connect timeout=30)')). Nouvelle tentative dans 5 secondes...||\n",
      "Exception: HTTPSConnectionPool(host='aadl3inscription2024.dz', port=443): Max retries exceeded with url: / (Caused by ConnectTimeoutError(<urllib3.connection.HTTPSConnection object at 0x0000023DB02C8FE0>, 'Connection to aadl3inscription2024.dz timed out. (connect timeout=30)')). Nouvelle tentative dans 5 secondes...||\n",
      "Exception: HTTPSConnectionPool(host='aadl3inscription2024.dz', port=443): Max retries exceeded with url: / (Caused by ConnectTimeoutError(<urllib3.connection.HTTPSConnection object at 0x0000023DB02C9820>, 'Connection to aadl3inscription2024.dz timed out. (connect timeout=30)')). Nouvelle tentative dans 5 secondes...||\n",
      "Exception: HTTPSConnectionPool(host='aadl3inscription2024.dz', port=443): Max retries exceeded with url: / (Caused by ConnectTimeoutError(<urllib3.connection.HTTPSConnection object at 0x0000023DB028A5A0>, 'Connection to aadl3inscription2024.dz timed out. (connect timeout=30)')). Nouvelle tentative dans 5 secondes...||\n",
      "Exception: HTTPSConnectionPool(host='aadl3inscription2024.dz', port=443): Max retries exceeded with url: / (Caused by ConnectTimeoutError(<urllib3.connection.HTTPSConnection object at 0x0000023DB02896A0>, 'Connection to aadl3inscription2024.dz timed out. (connect timeout=30)')). Nouvelle tentative dans 5 secondes...||\n",
      "Exception: HTTPSConnectionPool(host='aadl3inscription2024.dz', port=443): Max retries exceeded with url: / (Caused by ConnectTimeoutError(<urllib3.connection.HTTPSConnection object at 0x0000023DB028B410>, 'Connection to aadl3inscription2024.dz timed out. (connect timeout=30)')). Nouvelle tentative dans 5 secondes...||\n",
      "Exception: HTTPSConnectionPool(host='aadl3inscription2024.dz', port=443): Max retries exceeded with url: / (Caused by ConnectTimeoutError(<urllib3.connection.HTTPSConnection object at 0x0000023DB028BE90>, 'Connection to aadl3inscription2024.dz timed out. (connect timeout=30)')). Nouvelle tentative dans 5 secondes...||\n",
      "Exception: HTTPSConnectionPool(host='aadl3inscription2024.dz', port=443): Max retries exceeded with url: / (Caused by ConnectTimeoutError(<urllib3.connection.HTTPSConnection object at 0x0000023DB02C9370>, 'Connection to aadl3inscription2024.dz timed out. (connect timeout=30)')). Nouvelle tentative dans 5 secondes...||\n",
      "Exception: HTTPSConnectionPool(host='aadl3inscription2024.dz', port=443): Max retries exceeded with url: / (Caused by ConnectTimeoutError(<urllib3.connection.HTTPSConnection object at 0x0000023DB02C8050>, 'Connection to aadl3inscription2024.dz timed out. (connect timeout=30)')). Nouvelle tentative dans 5 secondes...||\n",
      "Exception: HTTPSConnectionPool(host='aadl3inscription2024.dz', port=443): Max retries exceeded with url: / (Caused by ConnectTimeoutError(<urllib3.connection.HTTPSConnection object at 0x0000023DB02C9E20>, 'Connection to aadl3inscription2024.dz timed out. (connect timeout=30)')). Nouvelle tentative dans 5 secondes...||\n",
      "Exception: HTTPSConnectionPool(host='aadl3inscription2024.dz', port=443): Max retries exceeded with url: / (Caused by ConnectTimeoutError(<urllib3.connection.HTTPSConnection object at 0x0000023DB028BD10>, 'Connection to aadl3inscription2024.dz timed out. (connect timeout=30)')). Nouvelle tentative dans 5 secondes...||\n",
      "Exception: HTTPSConnectionPool(host='aadl3inscription2024.dz', port=443): Max retries exceeded with url: / (Caused by ConnectTimeoutError(<urllib3.connection.HTTPSConnection object at 0x0000023DB028B170>, 'Connection to aadl3inscription2024.dz timed out. (connect timeout=30)')). Nouvelle tentative dans 5 secondes...||\n",
      "Exception: HTTPSConnectionPool(host='aadl3inscription2024.dz', port=443): Max retries exceeded with url: / (Caused by ConnectTimeoutError(<urllib3.connection.HTTPSConnection object at 0x0000023DB028A2A0>, 'Connection to aadl3inscription2024.dz timed out. (connect timeout=30)')). Nouvelle tentative dans 5 secondes...||\n",
      "Exception: HTTPSConnectionPool(host='aadl3inscription2024.dz', port=443): Max retries exceeded with url: / (Caused by NameResolutionError(\"<urllib3.connection.HTTPSConnection object at 0x0000023DB02C8170>: Failed to resolve 'aadl3inscription2024.dz' ([Errno 11001] getaddrinfo failed)\")). Nouvelle tentative dans 5 secondes...||\n",
      "Exception: HTTPSConnectionPool(host='aadl3inscription2024.dz', port=443): Max retries exceeded with url: / (Caused by NameResolutionError(\"<urllib3.connection.HTTPSConnection object at 0x0000023DB02C8CB0>: Failed to resolve 'aadl3inscription2024.dz' ([Errno 11001] getaddrinfo failed)\")). Nouvelle tentative dans 5 secondes...||\n",
      "Exception: HTTPSConnectionPool(host='aadl3inscription2024.dz', port=443): Max retries exceeded with url: / (Caused by NameResolutionError(\"<urllib3.connection.HTTPSConnection object at 0x0000023DB02CA0F0>: Failed to resolve 'aadl3inscription2024.dz' ([Errno 11001] getaddrinfo failed)\")). Nouvelle tentative dans 5 secondes...||\n",
      "Exception: HTTPSConnectionPool(host='aadl3inscription2024.dz', port=443): Max retries exceeded with url: / (Caused by NameResolutionError(\"<urllib3.connection.HTTPSConnection object at 0x0000023DB028B6B0>: Failed to resolve 'aadl3inscription2024.dz' ([Errno 11001] getaddrinfo failed)\")). Nouvelle tentative dans 5 secondes...||\n",
      "Exception: HTTPSConnectionPool(host='aadl3inscription2024.dz', port=443): Max retries exceeded with url: / (Caused by NameResolutionError(\"<urllib3.connection.HTTPSConnection object at 0x0000023DB028AC00>: Failed to resolve 'aadl3inscription2024.dz' ([Errno 11001] getaddrinfo failed)\")). Nouvelle tentative dans 5 secondes...||\n",
      "Exception: HTTPSConnectionPool(host='aadl3inscription2024.dz', port=443): Max retries exceeded with url: / (Caused by ConnectTimeoutError(<urllib3.connection.HTTPSConnection object at 0x0000023DB028BAA0>, 'Connection to aadl3inscription2024.dz timed out. (connect timeout=30)')). Nouvelle tentative dans 5 secondes...||\n",
      "Exception: HTTPSConnectionPool(host='aadl3inscription2024.dz', port=443): Max retries exceeded with url: / (Caused by ConnectTimeoutError(<urllib3.connection.HTTPSConnection object at 0x0000023DB00CE210>, 'Connection to aadl3inscription2024.dz timed out. (connect timeout=30)')). Nouvelle tentative dans 5 secondes...||\n",
      "Exception: HTTPSConnectionPool(host='aadl3inscription2024.dz', port=443): Max retries exceeded with url: / (Caused by ConnectTimeoutError(<urllib3.connection.HTTPSConnection object at 0x0000023DB02C99D0>, 'Connection to aadl3inscription2024.dz timed out. (connect timeout=30)')). Nouvelle tentative dans 5 secondes...||\n",
      "Exception: HTTPSConnectionPool(host='aadl3inscription2024.dz', port=443): Max retries exceeded with url: / (Caused by ConnectTimeoutError(<urllib3.connection.HTTPSConnection object at 0x0000023DB02C9100>, 'Connection to aadl3inscription2024.dz timed out. (connect timeout=30)')). Nouvelle tentative dans 5 secondes...||\n",
      "Exception: HTTPSConnectionPool(host='aadl3inscription2024.dz', port=443): Max retries exceeded with url: / (Caused by ConnectTimeoutError(<urllib3.connection.HTTPSConnection object at 0x0000023DB02CACC0>, 'Connection to aadl3inscription2024.dz timed out. (connect timeout=30)')). Nouvelle tentative dans 5 secondes...||\n",
      "Exception: HTTPSConnectionPool(host='aadl3inscription2024.dz', port=443): Max retries exceeded with url: / (Caused by ConnectTimeoutError(<urllib3.connection.HTTPSConnection object at 0x0000023DB028BD70>, 'Connection to aadl3inscription2024.dz timed out. (connect timeout=30)')). Nouvelle tentative dans 5 secondes...||\n",
      "Exception: HTTPSConnectionPool(host='aadl3inscription2024.dz', port=443): Max retries exceeded with url: / (Caused by ConnectTimeoutError(<urllib3.connection.HTTPSConnection object at 0x0000023DB0289190>, 'Connection to aadl3inscription2024.dz timed out. (connect timeout=30)')). Nouvelle tentative dans 5 secondes...||\n",
      "Exception: HTTPSConnectionPool(host='aadl3inscription2024.dz', port=443): Max retries exceeded with url: / (Caused by ConnectTimeoutError(<urllib3.connection.HTTPSConnection object at 0x0000023DB028A810>, 'Connection to aadl3inscription2024.dz timed out. (connect timeout=30)')). Nouvelle tentative dans 5 secondes...||\n",
      "Exception: HTTPSConnectionPool(host='aadl3inscription2024.dz', port=443): Max retries exceeded with url: / (Caused by ConnectTimeoutError(<urllib3.connection.HTTPSConnection object at 0x0000023DB02C9400>, 'Connection to aadl3inscription2024.dz timed out. (connect timeout=30)')). Nouvelle tentative dans 5 secondes...||\n",
      "Exception: HTTPSConnectionPool(host='aadl3inscription2024.dz', port=443): Max retries exceeded with url: / (Caused by ConnectTimeoutError(<urllib3.connection.HTTPSConnection object at 0x0000023DB02C9B20>, 'Connection to aadl3inscription2024.dz timed out. (connect timeout=30)')). Nouvelle tentative dans 5 secondes...||\n",
      "Exception: HTTPSConnectionPool(host='aadl3inscription2024.dz', port=443): Max retries exceeded with url: / (Caused by ConnectTimeoutError(<urllib3.connection.HTTPSConnection object at 0x0000023DB02CB020>, 'Connection to aadl3inscription2024.dz timed out. (connect timeout=30)')). Nouvelle tentative dans 5 secondes...||\n"
     ]
    }
   ],
   "source": [
    "import requests\n",
    "import time\n",
    "import webbrowser\n",
    "\n",
    "url = \"https://aadl3inscription2024.dz\"\n",
    "print(\"...\")\n",
    "while True:\n",
    "  try:\n",
    "    response = requests.get(url, timeout=30) \n",
    "    if response.status_code == 200:\n",
    "      print(\"Accès au site réussi!\")\n",
    "      webbrowser.open(url)\n",
    "      break\n",
    "    else:\n",
    "      print(f\"Erreur: {response.status_code}. Nouvelle tentative dans 5 secondes...\")\n",
    "  except requests.exceptions.RequestException as e:\n",
    "      print(f\"Exception: {e}. Nouvelle tentative dans 5 secondes...||\")\n",
    "      time.sleep(5)"
   ]
  }
 ],
 "metadata": {
  "kernelspec": {
   "display_name": "Python 3",
   "language": "python",
   "name": "python3"
  },
  "language_info": {
   "codemirror_mode": {
    "name": "ipython",
    "version": 3
   },
   "file_extension": ".py",
   "mimetype": "text/x-python",
   "name": "python",
   "nbconvert_exporter": "python",
   "pygments_lexer": "ipython3",
   "version": "3.12.2"
  }
 },
 "nbformat": 4,
 "nbformat_minor": 2
}
